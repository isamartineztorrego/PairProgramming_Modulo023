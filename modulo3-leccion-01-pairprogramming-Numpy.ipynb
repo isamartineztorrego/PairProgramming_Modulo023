{
 "cells": [
  {
   "cell_type": "markdown",
   "metadata": {},
   "source": [
    "### Pair Programming Numpy"
   ]
  },
  {
   "cell_type": "code",
   "execution_count": 1,
   "metadata": {},
   "outputs": [],
   "source": [
    "import numpy as np"
   ]
  },
  {
   "cell_type": "markdown",
   "metadata": {},
   "source": [
    "**Creación y Indexación:**"
   ]
  },
  {
   "cell_type": "markdown",
   "metadata": {},
   "source": [
    "1. Crea un array 1D con 50 valores aleatorio del 10 al 99. Accede a los elementos en las posiciones múltiplos de 5."
   ]
  },
  {
   "cell_type": "code",
   "execution_count": 2,
   "metadata": {},
   "outputs": [
    {
     "name": "stdout",
     "output_type": "stream",
     "text": [
      "El array1 es:\n",
      "[40 71 90 55 94 18 19 64 78 33 92 70 84 72 36 14 11 26 69 47 19 46 23 26\n",
      " 76 85 76 12 14 28 40 15 44 72 32 92 97 17 43 79 80 65 39 34 36 81 33 50\n",
      " 50 96]\n",
      "Los elementos en posiciones múltiplo de 5 son:\n",
      "[40 18 92 14 19 85 40 92 80 81]\n"
     ]
    }
   ],
   "source": [
    "array1=np.random.randint(10, 100, 50)\n",
    "print(f'El array1 es:\\n{array1}')\n",
    "\n",
    "print(f'Los elementos en posiciones múltiplo de 5 son:\\n{array1[::5]}')"
   ]
  },
  {
   "cell_type": "markdown",
   "metadata": {},
   "source": [
    "2. Crea un array 1D con 30 valores del 1 al 20 (ambos incluidos). Utiliza indexación para obtener los elementos en las posiciones impares."
   ]
  },
  {
   "cell_type": "code",
   "execution_count": 3,
   "metadata": {},
   "outputs": [
    {
     "name": "stdout",
     "output_type": "stream",
     "text": [
      "El array2 es:\n",
      "[ 4 11  9  4  2 19 14 11 10  8  3  2  5  1  7  9 16 20 13  5 16 16 12  7\n",
      "  9  5  6 19 11 12]\n",
      "Los elementos en posiciones impares son:\n",
      "[11  4 19 11  8  2  1  9 20  5 16  7  5 19 12]\n"
     ]
    }
   ],
   "source": [
    "array2=np.random.randint(1, 21, 30)\n",
    "print(f'El array2 es:\\n{array2}')\n",
    "\n",
    "print(f'Los elementos en posiciones impares son:\\n{array2[1::2]}')"
   ]
  },
  {
   "cell_type": "markdown",
   "metadata": {},
   "source": [
    "3. Crea un array 2D de forma (4, 6) con números aleatorios decimales (no deben estar comprendidos solo entre 0 y 1). Accede a la última fila de la matriz. Los decimales deben estar redondeados a 2 decimales."
   ]
  },
  {
   "cell_type": "code",
   "execution_count": 4,
   "metadata": {},
   "outputs": [
    {
     "name": "stdout",
     "output_type": "stream",
     "text": [
      "El array3 es:\n",
      "[[79.38 77.72 51.97 29.3  35.74 30.69]\n",
      " [31.3  84.51 16.26 78.3  30.88 44.16]\n",
      " [63.4  76.15 88.56 87.34 54.59  5.91]\n",
      " [52.99 22.69 39.58 32.39 47.89 11.16]]\n",
      "\n",
      "La última fila del array3 es:\n",
      "[52.99 22.69 39.58 32.39 47.89 11.16]\n"
     ]
    }
   ],
   "source": [
    "array3=np.round(np.random.random((4,6))*90,2) #*90 escala los valores para que estén en el rango de 0 a 90\n",
    "print(f'El array3 es:\\n{array3}\\n')\n",
    "\n",
    "print(f'La última fila del array3 es:\\n{array3[-1]}')"
   ]
  },
  {
   "cell_type": "markdown",
   "metadata": {},
   "source": [
    "4. **BONUS:** Crea un array 3D de forma (2, 3, 5) y 30 elementos con números enteros entre 0 y 100 (ambos incluidos). Reemplaza los elementos en posiciones múltiplos de 3 por 0."
   ]
  },
  {
   "cell_type": "code",
   "execution_count": 7,
   "metadata": {},
   "outputs": [
    {
     "name": "stdout",
     "output_type": "stream",
     "text": [
      "El array 3D original es:\n",
      "[[[ 13  88  71  81  90]\n",
      "  [ 63  82  81  21  74]\n",
      "  [100  21  53  82  57]]\n",
      "\n",
      " [[ 35  67  79  35  53]\n",
      "  [ 81  40  95  96  91]\n",
      "  [ 14   3  62  16  22]]]\n",
      "\n",
      "El array 3D modificado es:\n",
      "[[[  0  88  71   0  90]\n",
      "  [ 63   0  81  21   0]\n",
      "  [100  21   0  82  57]]\n",
      "\n",
      " [[  0  67  79   0  53]\n",
      "  [ 81   0  95  96   0]\n",
      "  [ 14   3   0  16  22]]]\n"
     ]
    }
   ],
   "source": [
    "#Creo el array 3D\n",
    "array3d=np.random.randint(0,101, (2,3,5))\n",
    "print(f'El array 3D original es:\\n{array3d}')\n",
    "\n",
    "#Aplano el array para facilitar el acceso a los índices\n",
    "array3dmod=array3d.flatten()\n",
    "\n",
    "#Reemplazo los elementos en posiciones múltiplos de 3, por 0\n",
    "array3dmod[::3]=0\n",
    "\n",
    "#Reconstruyo el array 3D con los valores del aplanado\n",
    "array3d=array3dmod.reshape((2,3,5))\n",
    "print(f'\\nEl array 3D modificado es:\\n{array3d}')"
   ]
  },
  {
   "cell_type": "markdown",
   "metadata": {},
   "source": [
    "**Reshape y Transpose:**"
   ]
  },
  {
   "cell_type": "markdown",
   "metadata": {},
   "source": [
    "##### Ejercicios con reshape:"
   ]
  },
  {
   "cell_type": "markdown",
   "metadata": {},
   "source": [
    "1. Crea un array 3D de forma (2, 3, 4) con valores aleatorios entre 1 y 100 (ambos inclusive). Utiliza reshape para convertirlo en un array 2D. Deberás pensar en la forma que es correcta para hacer este cambio."
   ]
  },
  {
   "cell_type": "code",
   "execution_count": 9,
   "metadata": {},
   "outputs": [
    {
     "name": "stdout",
     "output_type": "stream",
     "text": [
      "El array original es:\n",
      "[[[ 4 43 74 82]\n",
      "  [26 15 88  8]\n",
      "  [ 1 79 93 83]]\n",
      "\n",
      " [[43 34 21 47]\n",
      "  [80 24  5 49]\n",
      "  [ 6 41 43 69]]]\n",
      "\n",
      "El array 2D es:\n",
      "[[ 4 43 74 82]\n",
      " [26 15 88  8]\n",
      " [ 1 79 93 83]\n",
      " [43 34 21 47]\n",
      " [80 24  5 49]\n",
      " [ 6 41 43 69]]\n"
     ]
    }
   ],
   "source": [
    "#Creo el array 3D\n",
    "array3d_new=np.random.randint(1,101, (2,3,4)) #2*3*4=24 elementos\n",
    "print(f'El array original es:\\n{array3d_new}')\n",
    "\n",
    "#Creo array 2D de 24 para que tenga la misma cantidad de elementos que el original\n",
    "array2d=array3d_new.reshape(6,4)\n",
    "print(f'\\nEl array 2D es:\\n{array2d}')"
   ]
  },
  {
   "cell_type": "markdown",
   "metadata": {},
   "source": [
    "2. Crea un array 3D de forma (3, 4, 5) con valores enteros del 1 al 61 (sin incluir). Utiliza reshape para convertirlo en un array 2D."
   ]
  },
  {
   "cell_type": "code",
   "execution_count": 11,
   "metadata": {},
   "outputs": [
    {
     "name": "stdout",
     "output_type": "stream",
     "text": [
      "El array original es:\n",
      "[[[ 1  2  3  4  5]\n",
      "  [ 6  7  8  9 10]\n",
      "  [11 12 13 14 15]\n",
      "  [16 17 18 19 20]]\n",
      "\n",
      " [[21 22 23 24 25]\n",
      "  [26 27 28 29 30]\n",
      "  [31 32 33 34 35]\n",
      "  [36 37 38 39 40]]\n",
      "\n",
      " [[41 42 43 44 45]\n",
      "  [46 47 48 49 50]\n",
      "  [51 52 53 54 55]\n",
      "  [56 57 58 59 60]]]\n",
      "\n",
      "El nuevo array es:\n",
      "[[ 1  2  3  4  5]\n",
      " [ 6  7  8  9 10]\n",
      " [11 12 13 14 15]\n",
      " [16 17 18 19 20]\n",
      " [21 22 23 24 25]\n",
      " [26 27 28 29 30]\n",
      " [31 32 33 34 35]\n",
      " [36 37 38 39 40]\n",
      " [41 42 43 44 45]\n",
      " [46 47 48 49 50]\n",
      " [51 52 53 54 55]\n",
      " [56 57 58 59 60]]\n"
     ]
    }
   ],
   "source": [
    "#Utilizo arange porque el total de elementos será 60 y quiero que sean secuenciales\n",
    "array3d_last=np.arange(1,61).reshape(3,4,5) #Le pongo reshape porque con un arange no puedo especificar la forma\n",
    "print(f'El array original es:\\n{array3d_last}')\n",
    "\n",
    "#Lo convierto a 2D\n",
    "array2d_last=array3d_last.reshape(12,5)\n",
    "print(f'\\nEl nuevo array es:\\n{array2d_last}')"
   ]
  },
  {
   "cell_type": "markdown",
   "metadata": {},
   "source": [
    "##### Ejercicios con transpose:"
   ]
  },
  {
   "cell_type": "markdown",
   "metadata": {},
   "source": [
    "3. Utiliza el array 3D del ejercicio 2 de reshape. Utiliza transpose para permutar los ejes y obtener un nuevo array con forma (5, 4, 3)."
   ]
  },
  {
   "cell_type": "code",
   "execution_count": 13,
   "metadata": {},
   "outputs": [
    {
     "name": "stdout",
     "output_type": "stream",
     "text": [
      "El array original era:\n",
      "[[[ 1  2  3  4  5]\n",
      "  [ 6  7  8  9 10]\n",
      "  [11 12 13 14 15]\n",
      "  [16 17 18 19 20]]\n",
      "\n",
      " [[21 22 23 24 25]\n",
      "  [26 27 28 29 30]\n",
      "  [31 32 33 34 35]\n",
      "  [36 37 38 39 40]]\n",
      "\n",
      " [[41 42 43 44 45]\n",
      "  [46 47 48 49 50]\n",
      "  [51 52 53 54 55]\n",
      "  [56 57 58 59 60]]]\n",
      "\n",
      "El nuevo array es:\n",
      "[[[ 1 21 41]\n",
      "  [ 6 26 46]\n",
      "  [11 31 51]\n",
      "  [16 36 56]]\n",
      "\n",
      " [[ 2 22 42]\n",
      "  [ 7 27 47]\n",
      "  [12 32 52]\n",
      "  [17 37 57]]\n",
      "\n",
      " [[ 3 23 43]\n",
      "  [ 8 28 48]\n",
      "  [13 33 53]\n",
      "  [18 38 58]]\n",
      "\n",
      " [[ 4 24 44]\n",
      "  [ 9 29 49]\n",
      "  [14 34 54]\n",
      "  [19 39 59]]\n",
      "\n",
      " [[ 5 25 45]\n",
      "  [10 30 50]\n",
      "  [15 35 55]\n",
      "  [20 40 60]]]\n"
     ]
    }
   ],
   "source": [
    "#0=arrays, 1=filas, 2=columnas\n",
    "#El array original tenía una forma (3,4,5)\n",
    "print(f'El array original era:\\n{array3d_last}')\n",
    "\n",
    "#El nuevo array tiene forma (5,4,3)\n",
    "#Lo transpongo con (2,1,0) porque el 2 son columnas (eran 5), el 1 son filas (eran 4), el 0 son ejes (eran 3)\n",
    "#La posición antes 0 ahora es la última, la posición 1 sigue siendo la 1, la posición 2 ahora es la primera --> (2,1,0)\n",
    "array_trans=array3d_last.transpose(2,1,0)\n",
    "print(f'\\nEl nuevo array es:\\n{array_trans}')"
   ]
  },
  {
   "cell_type": "markdown",
   "metadata": {},
   "source": [
    "4. Utiliza el array 3D del ejercicio 2 de reshape. Utiliza transpose para cambiar el orden de los ejes y obtener un nuevo array con forma (3, 5, 4)."
   ]
  },
  {
   "cell_type": "code",
   "execution_count": 14,
   "metadata": {},
   "outputs": [
    {
     "name": "stdout",
     "output_type": "stream",
     "text": [
      "El array original era:\n",
      "[[[ 1  2  3  4  5]\n",
      "  [ 6  7  8  9 10]\n",
      "  [11 12 13 14 15]\n",
      "  [16 17 18 19 20]]\n",
      "\n",
      " [[21 22 23 24 25]\n",
      "  [26 27 28 29 30]\n",
      "  [31 32 33 34 35]\n",
      "  [36 37 38 39 40]]\n",
      "\n",
      " [[41 42 43 44 45]\n",
      "  [46 47 48 49 50]\n",
      "  [51 52 53 54 55]\n",
      "  [56 57 58 59 60]]]\n",
      "\n",
      "El nuevo array es:\n",
      "[[[ 1  6 11 16]\n",
      "  [ 2  7 12 17]\n",
      "  [ 3  8 13 18]\n",
      "  [ 4  9 14 19]\n",
      "  [ 5 10 15 20]]\n",
      "\n",
      " [[21 26 31 36]\n",
      "  [22 27 32 37]\n",
      "  [23 28 33 38]\n",
      "  [24 29 34 39]\n",
      "  [25 30 35 40]]\n",
      "\n",
      " [[41 46 51 56]\n",
      "  [42 47 52 57]\n",
      "  [43 48 53 58]\n",
      "  [44 49 54 59]\n",
      "  [45 50 55 60]]]\n"
     ]
    }
   ],
   "source": [
    "#0=arrays, 1=filas, 2=columnas\n",
    "#El array original tenía una forma (3,4,5)\n",
    "print(f'El array original era:\\n{array3d_last}')\n",
    "\n",
    "#El nuevo array tiene forma (3,5,4)\n",
    "array_trans_new=array3d_last.transpose(0,2,1)\n",
    "print(f'\\nEl nuevo array es:\\n{array_trans_new}')"
   ]
  },
  {
   "cell_type": "markdown",
   "metadata": {},
   "source": [
    "##### Preguntas teóricas:"
   ]
  },
  {
   "cell_type": "markdown",
   "metadata": {},
   "source": [
    "5. ¿Qué diferencia existe entre el reshape y el transpose?"
   ]
  },
  {
   "cell_type": "markdown",
   "metadata": {},
   "source": [
    "`Reshape` cambia la forma del array pero mantiene el mismo orden.\n",
    "\n",
    "`Transpose` cambia el orden de los ejes y el contenido se reorganiza según los nuevos ejes."
   ]
  },
  {
   "cell_type": "markdown",
   "metadata": {},
   "source": [
    "6. ¿Y entre el transpose y el swapaxes?"
   ]
  },
  {
   "cell_type": "markdown",
   "metadata": {},
   "source": [
    "`Transpose` permite cualquier permutación de los ejes.\n",
    "\n",
    "`Swapaxes` sólo intercambia dos ejes del array."
   ]
  },
  {
   "cell_type": "markdown",
   "metadata": {},
   "source": [
    "**Funciones Aritméticas y Estadísticas:**"
   ]
  },
  {
   "cell_type": "markdown",
   "metadata": {},
   "source": [
    "1. Crea un array de tres 3D con elementos entre el 0 y 1 de forma (2, 3, 5) cuyos valores solo tengan 1 decimal."
   ]
  },
  {
   "cell_type": "code",
   "execution_count": 15,
   "metadata": {},
   "outputs": [
    {
     "data": {
      "text/plain": [
       "array([[[0.9, 0.5, 0.2, 0.4, 0.2],\n",
       "        [0.9, 0.7, 0.2, 0.7, 0.1],\n",
       "        [0.8, 0.4, 0.1, 0. , 0.1]],\n",
       "\n",
       "       [[0.1, 1. , 1. , 0.6, 0.8],\n",
       "        [0.8, 0.8, 0.2, 1. , 0.9],\n",
       "        [0.5, 0.4, 0.4, 0.2, 1. ]]])"
      ]
     },
     "execution_count": 15,
     "metadata": {},
     "output_type": "execute_result"
    }
   ],
   "source": [
    "new_3d_array=np.round(np.random.random((2,3,5)),1)\n",
    "new_3d_array"
   ]
  },
  {
   "cell_type": "markdown",
   "metadata": {},
   "source": [
    "2. Crea un array vacío con la misma forma y dimensiones que el array creado anteriormente. Vamos a reemplazar los valores de la matriz vacía que nos acabamos de crear pero basándonos en los valores del primer array bajo las siguientes condiciones:\n",
    "\n",
    "- Si el valor del array es igual que la media, se reemplaza por \"A\".\n",
    "\n",
    "- Si el valor del array es mayor que la media, se reemplaza por \"B\".\n",
    "\n",
    "- Si el valor del array es menor que la media, se reemplaza por \"C\".\n",
    "\n",
    "- Si el valor es igual que el máximo, se reemplaza por \"D\".\n",
    "\n",
    "- Si el valor es igual que el mínimo, se reemplaza por \"E\".\n",
    "\n",
    "#a modo de ejemplo. Si tenemos el siguiente array\n",
    "[[[0.4, 0.7, 0.2, 0.9, 0.2],\n",
    "    [0.1, 0.9, 0.6, 0.1, 0.2],\n",
    "    [1. , 0.2, 0.1, 0.8, 0.3]],\n",
    "\n",
    "[[0. , 0.3, 0.4, 0.5, 0.1],\n",
    "    [0.5, 0.7, 0.9, 0. , 0.8],\n",
    "    [0.5, 0.3, 0.5, 0.8, 0.1]]])\n",
    "\n",
    "#sabiendo que la media es 0.4 y el máximo es 1.0 y el mínimo es 0.0\n",
    "\n",
    "#nuestro array vacío debería quedar como este: \n",
    "[[[\"A\", \"B\", \"C\", \"B\", \"C\"],\n",
    "    [\"C\", \"B\", \"B\", \"C\", \"C\"],\n",
    "    [\"D\" , \"C\", \"C\", \"B\", \"C\"]],\n",
    "\n",
    "[[\"E\" , \"C\", \"A\", \"B\", \"C\"],\n",
    "    [\"B\", \"B\",\"B\", \"E\" , \"B\"],\n",
    "    [\"B\", \"C\", \"B\", \"B\", \"C\"]]])"
   ]
  },
  {
   "cell_type": "code",
   "execution_count": 24,
   "metadata": {},
   "outputs": [
    {
     "name": "stdout",
     "output_type": "stream",
     "text": [
      "La forma del array vacío es: (2, 3, 5)\n",
      "\n",
      "El array con los datos del anterior es:\n",
      "[[[0.9 0.5 0.2 0.4 0.2]\n",
      "  [0.9 0.7 0.2 0.7 0.1]\n",
      "  [0.8 0.4 0.1 0.  0.1]]\n",
      "\n",
      " [[0.1 1.  1.  0.6 0.8]\n",
      "  [0.8 0.8 0.2 1.  0.9]\n",
      "  [0.5 0.4 0.4 0.2 1. ]]]\n"
     ]
    }
   ],
   "source": [
    "#Creo el array vacío y compruebo shape\n",
    "empty_3d_array=np.empty((2,3,5))\n",
    "print(f'La forma del array vacío es: {empty_3d_array.shape}')\n",
    "\n",
    "#Reemplazo los valores vacíos por los del anterior array\n",
    "empty_3d_array[:]=new_3d_array\n",
    "print(f'\\nEl array con los datos del anterior es:\\n{empty_3d_array}')"
   ]
  },
  {
   "cell_type": "code",
   "execution_count": 25,
   "metadata": {},
   "outputs": [
    {
     "name": "stdout",
     "output_type": "stream",
     "text": [
      "La media es: 0.53\n",
      "El máximo es: 1.0\n",
      "El mínimo es: 0.0\n"
     ]
    }
   ],
   "source": [
    "#Calculo las variables para poder aplicar después las condiciones\n",
    "media=np.mean(new_3d_array)\n",
    "print(f'La media es: {media}')\n",
    "maximo=np.max(new_3d_array)\n",
    "print(f'El máximo es: {maximo}')\n",
    "minimo=np.min(new_3d_array)\n",
    "print(f'El mínimo es: {minimo}')"
   ]
  },
  {
   "cell_type": "code",
   "execution_count": 27,
   "metadata": {},
   "outputs": [],
   "source": [
    "#Creo una máscara para cada condición\n",
    "mask_a=empty_3d_array == media\n",
    "mask_b=empty_3d_array > media\n",
    "mask_c=empty_3d_array < media\n",
    "mask_d=empty_3d_array == maximo\n",
    "mask_e=empty_3d_array == minimo"
   ]
  },
  {
   "cell_type": "code",
   "execution_count": 26,
   "metadata": {},
   "outputs": [],
   "source": [
    "#Convierto el array a tipo object para poder añadir letras y mantener los número si fuera necesario\n",
    "array_object=empty_3d_array.astype(object)"
   ]
  },
  {
   "cell_type": "code",
   "execution_count": 28,
   "metadata": {},
   "outputs": [],
   "source": [
    "#Reemplazo valores según condiciones\n",
    "array_object[mask_a]='A'\n",
    "array_object[mask_b]='B'\n",
    "array_object[mask_c]='C'\n",
    "array_object[mask_d]='D'\n",
    "array_object[mask_d]='D'"
   ]
  },
  {
   "cell_type": "code",
   "execution_count": 30,
   "metadata": {},
   "outputs": [
    {
     "name": "stdout",
     "output_type": "stream",
     "text": [
      "El array modificado es:\n",
      "[[['B' 'C' 'C' 'C' 'C']\n",
      "  ['B' 'B' 'C' 'B' 'C']\n",
      "  ['B' 'C' 'C' 'C' 'C']]\n",
      "\n",
      " [['C' 'D' 'D' 'B' 'B']\n",
      "  ['B' 'B' 'C' 'D' 'B']\n",
      "  ['C' 'C' 'C' 'C' 'D']]]\n"
     ]
    }
   ],
   "source": [
    "#Imprimo array modificado\n",
    "print(f'El array modificado es:\\n{array_object}')"
   ]
  }
 ],
 "metadata": {
  "kernelspec": {
   "display_name": "base",
   "language": "python",
   "name": "python3"
  },
  "language_info": {
   "codemirror_mode": {
    "name": "ipython",
    "version": 3
   },
   "file_extension": ".py",
   "mimetype": "text/x-python",
   "name": "python",
   "nbconvert_exporter": "python",
   "pygments_lexer": "ipython3",
   "version": "3.9.7"
  }
 },
 "nbformat": 4,
 "nbformat_minor": 2
}
